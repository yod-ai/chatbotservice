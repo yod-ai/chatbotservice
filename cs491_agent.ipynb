{
 "cells": [
  {
   "cell_type": "code",
   "execution_count": 177,
   "metadata": {},
   "outputs": [
    {
     "name": "stdout",
     "output_type": "stream",
     "text": [
      "Note: you may need to restart the kernel to use updated packages.\n"
     ]
    }
   ],
   "source": [
    "%pip install langgraph langchain-openai langchain langchain_community python-dotenv pypdf chromadb --quiet "
   ]
  },
  {
   "cell_type": "code",
   "execution_count": 178,
   "id": "ff5624d5",
   "metadata": {},
   "outputs": [],
   "source": [
    "from langgraph.graph import StateGraph, START, END\n",
    "from langgraph.checkpoint.memory import MemorySaver\n",
    "from langchain_core.messages import AnyMessage, SystemMessage, HumanMessage, ToolMessage\n",
    "from langchain.prompts import (\n",
    "    ChatPromptTemplate,\n",
    "    PromptTemplate,\n",
    "    FewShotChatMessagePromptTemplate\n",
    ")\n",
    "from langchain.tools.render import format_tool_to_openai_tool, format_tool_to_openai_function\n",
    "from langchain_core.output_parsers import StrOutputParser, PydanticOutputParser\n",
    "from langchain_core.runnables import RunnablePassthrough\n",
    "from langchain_openai import ChatOpenAI\n",
    "from langchain.callbacks.manager import (\n",
    "    AsyncCallbackManagerForToolRun,\n",
    "    CallbackManagerForToolRun,\n",
    ")\n",
    "from langchain_core.tracers.context import tracing_v2_enabled\n",
    "from langchain_core.tools import tool\n",
    "from langchain.tools import BaseTool, StructuredTool, tool\n",
    "from pydantic import Field, BaseModel\n",
    "from typing import (\n",
    "    Optional,\n",
    "    Tuple,\n",
    "    Dict,\n",
    "    TypedDict,\n",
    "    Type,\n",
    "    Annotated,\n",
    "    List,\n",
    "    Union,\n",
    "    Any,\n",
    "\n",
    ")\n",
    "from IPython.display import Image, display\n",
    "import pandas as pd\n",
    "from pydantic import BaseModel, Field\n",
    "from operator import itemgetter\n",
    "import os\n",
    "from dotenv import load_dotenv\n",
    "import json\n",
    "\n",
    "from langchain.document_loaders import PyPDFLoader\n",
    "from langchain.vectorstores import Chroma\n",
    "from langchain.embeddings.openai import OpenAIEmbeddings\n",
    "from langchain.text_splitter import RecursiveCharacterTextSplitter, CharacterTextSplitter\n",
    "from langchain.retrievers.self_query.base import SelfQueryRetriever\n",
    "from langchain.chains.query_constructor.base import AttributeInfo\n",
    "from langchain.chains import RetrievalQA"
   ]
  },
  {
   "cell_type": "code",
   "execution_count": 179,
   "id": "ca71943b",
   "metadata": {},
   "outputs": [],
   "source": [
    "langchain_tracing = os.getenv('LANGCHAIN_TRACING_V2')\n",
    "langchain_endpoint = os.getenv('LANGCHAIN_ENDPOINT')\n",
    "langchain_api_key = os.getenv('LANGCHAIN_API_KEY')\n",
    "openai_api_key = os.getenv('OPENAI_API_KEY')\n",
    "langchain_project=os.getenv('LANGCHAIN_PROJECT')"
   ]
  },
  {
   "cell_type": "code",
   "execution_count": 180,
   "id": "a91ba5a8",
   "metadata": {},
   "outputs": [],
   "source": [
    "gpt_3_5 = ChatOpenAI(\n",
    "    openai_api_key=openai_api_key,\n",
    "    model_name=\"gpt-3.5-turbo\"\n",
    ")"
   ]
  },
  {
   "cell_type": "code",
   "execution_count": 181,
   "id": "73fded31",
   "metadata": {},
   "outputs": [],
   "source": [
    "class QuickQuestionModel(BaseModel):\n",
    "  \"\"\" Data Validation Layer for Quick Q&A Tool \"\"\"\n",
    "  query: str = Field(description=\"User's query/question\")\n",
    "\n",
    "  class Config:\n",
    "      json_schema_extra = {\n",
    "          \"example\": {\n",
    "              \"query\": \"How does the adoption process work in general?\"\n",
    "            }\n",
    "        }\n",
    "\n",
    "class ToolManagerModel(BaseModel):\n",
    "  \"\"\" Data Validation Schema for Tool Manager LLM \"\"\"\n",
    "  query: str = Field(description=\"User's query/question\")\n",
    "\n",
    "  class Config:\n",
    "    json_schema_extra = {\n",
    "        \"example\": {\n",
    "            \"query\": \"I want to learn more about the adoption process.\"\n",
    "        }\n",
    "    }\n",
    "\n",
    "class ToolParser(BaseModel):\n",
    "  \"\"\"\n",
    "  Description:\n",
    "  ------------\n",
    "  This pydantic model is for custom output parser used in tool manager chain.\n",
    "\n",
    "  Attributes:\n",
    "  ------------\n",
    "  tool_name: str\n",
    "  \"\"\"\n",
    "  tool_name: str = Field(description=\"\"\"\n",
    "  Extract the tool name as either training, healtcare, quick question, or adoption support\n",
    "  based on the request.\n",
    "  \"\"\"\n",
    "  )\n",
    "\n",
    "  class Config:\n",
    "    json_schema_extra = {\n",
    "        \"example\": {\n",
    "            \"tool_name\": \"quick question\"\n",
    "        }\n",
    "    }"
   ]
  },
  {
   "cell_type": "code",
   "execution_count": 182,
   "id": "ff8c5525",
   "metadata": {},
   "outputs": [],
   "source": [
    "tool_manager_prompt = \"\"\"\"\n",
    "You are a tool manager who makes decisions on which tool should be run in order to complete the requirement.\n",
    "\n",
    "Your task is to identify the tool name based on the following request.\n",
    "\n",
    "Identify the tools as either 'training', 'healtcare', 'quick question', or 'adoption support'.\n",
    "\n",
    "Here the request is: {request}\\n{format_instructions}\n",
    "\n",
    "\"\"\"\n",
    "\n",
    "quick_question_tool_prompt = \"\"\"\n",
    "**FOLLOW THE INSTRUCTIONS BELOW**\n",
    "\n",
    "1 - Your task is to answer user questions with concise answers with the information provided to you.\n",
    "\n",
    "6 - Now based on the following document and user question, answer the question in a direct way, and only give relative answers.\n",
    "Information:\\n{information}\n",
    "Question: {question}\n",
    "\"\"\""
   ]
  },
  {
   "cell_type": "code",
   "execution_count": 183,
   "id": "f24acb1a",
   "metadata": {},
   "outputs": [],
   "source": [
    "class ToolManager(BaseTool):\n",
    "  name = \"tool_manager\"\n",
    "  description = \"Use this tool to decide which other tool should be executed based on the given query\"\n",
    "  args_schema: Type[BaseModel] = ToolManagerModel\n",
    "\n",
    "  def _run(\n",
    "      self,\n",
    "      request: str,\n",
    "      run_manager: Optional[CallbackManagerForToolRun] = None\n",
    "  ) -> str:\n",
    "\n",
    "    \"\"\"\n",
    "    Description:\n",
    "    -----------\n",
    "    Use this tool to decide which other tool should be executed based on the given query.\n",
    "    \"\"\"\n",
    "    tool_parser = PydanticOutputParser(pydantic_object=ToolParser)\n",
    "\n",
    "    tool_manager_prompt_template = PromptTemplate(\n",
    "        template=tool_manager_prompt,\n",
    "        input_variables=[\"request\"],\n",
    "        partial_variables={\"format_instructions\": tool_parser.get_format_instructions()}\n",
    "    )\n",
    "\n",
    "    tool_manager_chain = (\n",
    "        tool_manager_prompt_template\n",
    "        | gpt_3_5\n",
    "        | tool_parser\n",
    "    )\n",
    "\n",
    "    tool_name = tool_manager_chain.invoke({\"request\":request})\n",
    "    return tool_name"
   ]
  },
  {
   "cell_type": "code",
   "execution_count": null,
   "id": "eb52092f",
   "metadata": {},
   "outputs": [],
   "source": [
    "class QuickQuestionChain(BaseTool):\n",
    "  name=\"quick_question\"\n",
    "  description=\"Use this tool to answer user question with the information given to you.\"\n",
    "  args_schema: Type[BaseModel] = QuickQuestionModel\n",
    "\n",
    "  def _run(\n",
    "      self,\n",
    "      query: str,\n",
    "      run_manager: Optional[CallbackManagerForToolRun] = None\n",
    "      ) -> str:\n",
    "      \"\"\"\n",
    "      Description:\n",
    "      -----------\n",
    "      Use this tool to answer user question with the information given to you.\n",
    "      \"\"\"\n",
    "      quick_answer_prompt_template = PromptTemplate(\n",
    "        template=quick_question_tool_prompt,\n",
    "        input_variables=[\"information\", \"question\"]\n",
    "      )\n",
    "      \n",
    "      quick_answer_chain = (\n",
    "        quick_answer_prompt_template \n",
    "          | gpt_3_5\n",
    "          | StrOutputParser()\n",
    "      )\n",
    "\n",
    "      loader = PyPDFLoader(\"KE - process info.pdf\")\n",
    "      pages = loader.load()\n",
    "      \n",
    "      text_splitter = CharacterTextSplitter(\n",
    "          separator=\"\\n\",\n",
    "          chunk_size=1000,\n",
    "          chunk_overlap=150,\n",
    "          length_function=len\n",
    "      )\n",
    "      splits = text_splitter.split_documents(pages)\n",
    "      embedding = OpenAIEmbeddings()\n",
    "      vectordb = Chroma.from_documents(\n",
    "        documents=splits,\n",
    "        embedding=embedding,\n",
    "      )\n",
    "      qa_chain = RetrievalQA.from_chain_type(\n",
    "        gpt_3_5,\n",
    "        retriever=vectordb.as_retriever()\n",
    "      )\n",
    "\n",
    "      docs = qa_chain({\"query\": query})\n",
    "\n",
    "      print(docs)\n",
    "\n",
    "      response = quick_answer_chain.invoke(\n",
    "          {\n",
    "            \"information\": docs,\n",
    "            \"question\": query\n",
    "          }\n",
    "      )\n",
    "\n",
    "      print(response)\n",
    "      \n",
    "      return response"
   ]
  },
  {
   "cell_type": "code",
   "execution_count": 185,
   "id": "983d0be5",
   "metadata": {},
   "outputs": [],
   "source": [
    "quick_question_tool = QuickQuestionChain()\n",
    "tool_manager_tool = ToolManager()"
   ]
  },
  {
   "cell_type": "code",
   "execution_count": 186,
   "id": "dfcff4e0",
   "metadata": {},
   "outputs": [],
   "source": [
    "class GraphState(TypedDict):\n",
    "  \"\"\"\n",
    "  Description:\n",
    "  -------------\n",
    "  Represents the Graph State of our Chatbot Model\n",
    "\n",
    "  \"\"\"\n",
    "  question: str\n",
    "  which_tool: str\n",
    "  answer: str"
   ]
  },
  {
   "cell_type": "code",
   "execution_count": 187,
   "id": "10f56f57",
   "metadata": {},
   "outputs": [],
   "source": [
    "def tool_manager(state):\n",
    "  \"\"\"\n",
    "  Description:\n",
    "  -------------\n",
    "  Decide which tool to run\n",
    "\n",
    "  Args:\n",
    "  -----\n",
    "  state (dict): The current Graph State\n",
    "\n",
    "  Returns:\n",
    "  --------\n",
    "  state (dict): name of the tool\n",
    "  \"\"\"\n",
    "  print(\"---TOOL MANAGER---\")\n",
    "  question = state[\"question\"]\n",
    "\n",
    "  selected_tool = tool_manager_tool._run(question)\n",
    "  state[\"which_tool\"] = selected_tool.tool_name\n",
    "\n",
    "  return {\"which_tool\": selected_tool.tool_name}"
   ]
  },
  {
   "cell_type": "code",
   "execution_count": 188,
   "id": "5993f758",
   "metadata": {},
   "outputs": [],
   "source": [
    "def choose_tool(state):\n",
    "  \"\"\"\n",
    "  Description:\n",
    "  -------------\n",
    "  Send the selected tool the next node\n",
    "\n",
    "  Args:\n",
    "  -----\n",
    "  state (dict): The current Graph State\n",
    "\n",
    "  Returns:\n",
    "  --------\n",
    "  str: name of the tool for next node to call\n",
    "  \"\"\"\n",
    "  print(\"---Now Choosing A Tool---\")\n",
    "  which_tool = state[\"which_tool\"]\n",
    "\n",
    "  if which_tool == \"quick question\":\n",
    "    print(\"---Running: Quick Question Tool---\")\n",
    "    return \"quickquestion\""
   ]
  },
  {
   "cell_type": "code",
   "execution_count": 189,
   "id": "6cdfcb3a",
   "metadata": {},
   "outputs": [],
   "source": [
    "def quick_question(state):\n",
    "  \n",
    "  print(\"---QUICK QUESTION---\")\n",
    "  question = state[\"question\"]\n",
    "\n",
    "  answer = quick_question_tool._run(question)\n",
    "  state[\"answer\"] = answer\n",
    "\n",
    "  return {\"which_tool\": answer}"
   ]
  },
  {
   "cell_type": "code",
   "execution_count": 190,
   "id": "8e64bf90",
   "metadata": {},
   "outputs": [],
   "source": [
    "workflow = StateGraph(GraphState)\n",
    "workflow.add_node(\"tool_manager\", tool_manager)\n",
    "workflow.add_node(\"quickquestion\", quick_question)\n",
    "\n",
    "workflow.add_edge(START, \"tool_manager\")\n",
    "workflow.add_conditional_edges(\n",
    "    \"tool_manager\",\n",
    "    choose_tool,\n",
    "    {\n",
    "        \"quickquestion\": \"quickquestion\",\n",
    "    }\n",
    ")\n",
    "workflow.add_edge(\"quickquestion\", END)\n",
    "\n",
    "chatbot = workflow.compile()"
   ]
  },
  {
   "cell_type": "code",
   "execution_count": 191,
   "id": "073f63b4",
   "metadata": {},
   "outputs": [
    {
     "data": {
      "image/jpeg": "[encoded data removed]",
      "text/plain": [
       "<IPython.core.display.Image object>"
      ]
     },
     "metadata": {},
     "output_type": "display_data"
    }
   ],
   "source": [
    "display(Image(chatbot.get_graph(xray=1).draw_mermaid_png()))"
   ]
  },
  {
   "cell_type": "code",
   "execution_count": 192,
   "id": "e3c9a7e7",
   "metadata": {},
   "outputs": [
    {
     "name": "stdout",
     "output_type": "stream",
     "text": [
      "---TOOL MANAGER---\n"
     ]
    },
    {
     "name": "stderr",
     "output_type": "stream",
     "text": [
      "Created a chunk of size 1799, which is longer than the specified 1000\n"
     ]
    },
    {
     "name": "stdout",
     "output_type": "stream",
     "text": [
      "---Now Choosing A Tool---\n",
      "---Running: Quick Question Tool---\n",
      "---QUICK QUESTION---\n",
      "{'query': 'Hızlı bir soru sormak istiyorum? Nasıl köpek sahiplenebilirim?', 'result': 'Maalesef hızlı bir şekilde cevap veremem çünkü köpek sahiplenme süreci detaylı bir bilgilendirme gerektirir. Köpek sahiplenmeden önce hayvanın günlük ihtiyaçları, sağlık gereksinimleri ve uyum süreçleri hakkında bilgi almanız önemlidir. Bu konuda detaylı bilgi almak ve sahiplenme şartlarını öğrenmek için bir hayvan barınağı veya kurtarma kuruluşu ile iletişime geçmenizi öneririm. Bu kuruluşlar size doğru rehberlik sağlayarak sahiplenme sürecinde size yardımcı olacaklardır.'}\n",
      "Cevap: Köpek sahiplenme süreci detaylı bir bilgilendirme gerektirir. Hayvanın günlük ihtiyaçları, sağlık gereksinimleri ve uyum süreçleri hakkında bilgi almanız önemlidir. Detaylı bilgi almak ve sahiplenme şartlarını öğrenmek için bir hayvan barınağı veya kurtarma kuruluşu ile iletişime geçmenizi öneririm. Bu kuruluşlar size doğru rehberlik sağlayarak sahiplenme sürecinde size yardımcı olacaklardır.\n"
     ]
    }
   ],
   "source": [
    "inputs = {\n",
    "    \"question\": \"Hızlı bir soru sormak istiyorum? Nasıl köpek sahiplenebilirim?\",\n",
    "    }\n",
    "with tracing_v2_enabled(project_name=\"cs491_agent\"):\n",
    "  output = chatbot.invoke(inputs)"
   ]
  }
 ],
 "metadata": {
  "kernelspec": {
   "display_name": "Python 3",
   "language": "python",
   "name": "python3"
  },
  "language_info": {
   "codemirror_mode": {
    "name": "ipython",
    "version": 3
   },
   "file_extension": ".py",
   "mimetype": "text/x-python",
   "name": "python",
   "nbconvert_exporter": "python",
   "pygments_lexer": "ipython3",
   "version": "3.11.4"
  }
 },
 "nbformat": 4,
 "nbformat_minor": 5
}
